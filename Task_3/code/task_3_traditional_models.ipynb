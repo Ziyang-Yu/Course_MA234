{
 "cells": [
  {
   "cell_type": "markdown",
   "metadata": {},
   "source": [
    "## Experiments of different models"
   ]
  },
  {
   "cell_type": "markdown",
   "metadata": {},
   "source": [
    "### Get data with missing values filled with interpolating"
   ]
  },
  {
   "cell_type": "code",
   "execution_count": null,
   "metadata": {},
   "outputs": [],
   "source": [
    "import Preprocess_nosplit\n",
    "import numpy as np\n",
    "import os\n",
    "import Preprocess\n",
    "import platform\n",
    "\n",
    "\n",
    "Preprocess_nosplit.preprocess_fill_interpolate()\n",
    "\n",
    "file_path = os.path.abspath(os.path.dirname(os.path.dirname(os.path.abspath(''))))\n",
    "\n",
    "if platform.system().lower() == 'windows':\n",
    "    print(\"windows\")\n",
    "    dataset_X = np.load(file_path + \"\\Task_3\\data\\dataset_X.npy\")\n",
    "    dataset_Y = np.load(file_path + \"\\Task_3\\data\\dataset_Y.npy\")\n",
    "elif platform.system().lower() == 'linux':\n",
    "    print(\"linux\")\n",
    "    dataset_X = np.load(file_path + \"/Task_3/data/dataset_X.npy\")\n",
    "    dataset_Y = np.load(file_path + \"/Task_3/data/dataset_Y.npy\")\n",
    "\n",
    "\n",
    "train_X = dataset_X[:1200*24]\n",
    "train_Y = dataset_Y[:1200*24]\n",
    "test_X = dataset_X[1200*24:]\n",
    "test_Y = dataset_Y[1200*24:]\n",
    "\n",
    "\n",
    "\n",
    "Preprocess.save_as_npy(train_X, train_Y, test_X, test_Y)"
   ]
  },
  {
   "cell_type": "markdown",
   "metadata": {},
   "source": [
    "### Get data with missing values filled with KNN"
   ]
  },
  {
   "cell_type": "code",
   "execution_count": null,
   "metadata": {},
   "outputs": [],
   "source": [
    "import Preprocess_nosplit\n",
    "import numpy as np\n",
    "import os\n",
    "import Preprocess\n",
    "import platform\n",
    "\n",
    "\n",
    "Preprocess_nosplit.preprocess_fill_KNN()\n",
    "\n",
    "file_path = os.path.abspath(os.path.dirname(os.path.dirname(os.path.abspath(''))))\n",
    "\n",
    "if platform.system().lower() == 'windows':\n",
    "    print(\"windows\")\n",
    "    dataset_X = np.load(file_path + \"\\Task_3\\data\\dataset_X.npy\")\n",
    "    dataset_Y = np.load(file_path + \"\\Task_3\\data\\dataset_Y.npy\")\n",
    "elif platform.system().lower() == 'linux':\n",
    "    print(\"linux\")\n",
    "    dataset_X = np.load(file_path + \"/Task_3/data/dataset_X.npy\")\n",
    "    dataset_Y = np.load(file_path + \"/Task_3/data/dataset_Y.npy\")\n",
    "\n",
    "\n",
    "train_X = dataset_X[:1200*24]\n",
    "train_Y = dataset_Y[:1200*24]\n",
    "test_X = dataset_X[1200*24:]\n",
    "test_Y = dataset_Y[1200*24:]\n",
    "\n",
    "\n",
    "\n",
    "Preprocess.save_as_npy(train_X, train_Y, test_X, test_Y)"
   ]
  },
  {
   "cell_type": "markdown",
   "metadata": {},
   "source": [
    "### Get data with missing values filled with average"
   ]
  },
  {
   "cell_type": "code",
   "execution_count": null,
   "metadata": {},
   "outputs": [],
   "source": [
    "import Preprocess_nosplit\n",
    "import numpy as np\n",
    "import os\n",
    "import Preprocess\n",
    "import platform\n",
    "\n",
    "\n",
    "Preprocess_nosplit.preprocess_fill_average()\n",
    "\n",
    "file_path = os.path.abspath(os.path.dirname(os.path.dirname(os.path.abspath(''))))\n",
    "\n",
    "if platform.system().lower() == 'windows':\n",
    "    print(\"windows\")\n",
    "    dataset_X = np.load(file_path + \"\\Task_3\\data\\dataset_X.npy\")\n",
    "    dataset_Y = np.load(file_path + \"\\Task_3\\data\\dataset_Y.npy\")\n",
    "elif platform.system().lower() == 'linux':\n",
    "    print(\"linux\")\n",
    "    dataset_X = np.load(file_path + \"/Task_3/data/dataset_X.npy\")\n",
    "    dataset_Y = np.load(file_path + \"/Task_3/data/dataset_Y.npy\")\n",
    "\n",
    "\n",
    "train_X = dataset_X[:1200*24]\n",
    "train_Y = dataset_Y[:1200*24]\n",
    "test_X = dataset_X[1200*24:]\n",
    "test_Y = dataset_Y[1200*24:]\n",
    "\n",
    "\n",
    "\n",
    "Preprocess.save_as_npy(train_X, train_Y, test_X, test_Y)"
   ]
  },
  {
   "cell_type": "markdown",
   "metadata": {},
   "source": [
    "### Bayes"
   ]
  },
  {
   "cell_type": "code",
   "execution_count": null,
   "metadata": {},
   "outputs": [],
   "source": [
    "from models import Bayes"
   ]
  },
  {
   "cell_type": "markdown",
   "metadata": {},
   "source": [
    "### elastic"
   ]
  },
  {
   "cell_type": "code",
   "execution_count": null,
   "metadata": {},
   "outputs": [],
   "source": [
    "from models import elastic"
   ]
  },
  {
   "cell_type": "markdown",
   "metadata": {},
   "source": [
    "### knn"
   ]
  },
  {
   "cell_type": "code",
   "execution_count": null,
   "metadata": {},
   "outputs": [],
   "source": [
    "from models import knn"
   ]
  },
  {
   "cell_type": "markdown",
   "metadata": {},
   "source": [
    "### Lasso"
   ]
  },
  {
   "cell_type": "code",
   "execution_count": null,
   "metadata": {},
   "outputs": [],
   "source": [
    "from models import Lasso"
   ]
  },
  {
   "cell_type": "markdown",
   "metadata": {},
   "source": [
    "### LightGBM"
   ]
  },
  {
   "cell_type": "code",
   "execution_count": null,
   "metadata": {},
   "outputs": [],
   "source": [
    "from models import LightGBM"
   ]
  },
  {
   "cell_type": "markdown",
   "metadata": {},
   "source": [
    "### Linear"
   ]
  },
  {
   "cell_type": "code",
   "execution_count": null,
   "metadata": {},
   "outputs": [],
   "source": [
    "from models import linear"
   ]
  },
  {
   "cell_type": "markdown",
   "metadata": {},
   "source": [
    "### ling"
   ]
  },
  {
   "cell_type": "code",
   "execution_count": null,
   "metadata": {},
   "outputs": [],
   "source": [
    "from models import ling"
   ]
  },
  {
   "cell_type": "markdown",
   "metadata": {},
   "source": [
    "### mean"
   ]
  },
  {
   "cell_type": "code",
   "execution_count": null,
   "metadata": {},
   "outputs": [],
   "source": [
    "from models import mean"
   ]
  },
  {
   "cell_type": "markdown",
   "metadata": {},
   "source": [
    "### Mlp"
   ]
  },
  {
   "cell_type": "code",
   "execution_count": null,
   "metadata": {},
   "outputs": [],
   "source": [
    "from models import Mlp"
   ]
  },
  {
   "cell_type": "markdown",
   "metadata": {},
   "source": [
    "### RandomForest"
   ]
  },
  {
   "cell_type": "code",
   "execution_count": null,
   "metadata": {},
   "outputs": [],
   "source": [
    "from models import RandomForest"
   ]
  },
  {
   "cell_type": "markdown",
   "metadata": {},
   "source": [
    "### SCG"
   ]
  },
  {
   "cell_type": "code",
   "execution_count": null,
   "metadata": {},
   "outputs": [],
   "source": [
    "from models import SCG"
   ]
  },
  {
   "cell_type": "markdown",
   "metadata": {},
   "source": [
    "### SVR"
   ]
  },
  {
   "cell_type": "code",
   "execution_count": null,
   "metadata": {},
   "outputs": [],
   "source": [
    "from models import SVR"
   ]
  },
  {
   "cell_type": "markdown",
   "metadata": {},
   "source": [
    "### tree"
   ]
  },
  {
   "cell_type": "code",
   "execution_count": null,
   "metadata": {},
   "outputs": [],
   "source": [
    "from models import tree"
   ]
  },
  {
   "cell_type": "markdown",
   "metadata": {},
   "source": [
    "### XGBoost"
   ]
  },
  {
   "cell_type": "code",
   "execution_count": null,
   "metadata": {},
   "outputs": [],
   "source": [
    "from models import XGBoost"
   ]
  }
 ],
 "metadata": {
  "interpreter": {
   "hash": "916dbcbb3f70747c44a77c7bcd40155683ae19c65e1c03b4aa3499c5328201f1"
  },
  "kernelspec": {
   "display_name": "Python 3.6.3 64-bit",
   "language": "python",
   "name": "python3"
  },
  "language_info": {
   "codemirror_mode": {
    "name": "ipython",
    "version": 3
   },
   "file_extension": ".py",
   "mimetype": "text/x-python",
   "name": "python",
   "nbconvert_exporter": "python",
   "pygments_lexer": "ipython3",
   "version": "3.6.3"
  },
  "orig_nbformat": 4
 },
 "nbformat": 4,
 "nbformat_minor": 2
}
